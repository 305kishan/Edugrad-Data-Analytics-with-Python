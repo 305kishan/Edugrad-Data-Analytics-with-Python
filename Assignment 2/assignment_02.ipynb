{
 "cells": [
  {
   "cell_type": "code",
   "execution_count": 1,
   "metadata": {},
   "outputs": [],
   "source": [
    "import csv\n",
    "import re"
   ]
  },
  {
   "cell_type": "code",
   "execution_count": null,
   "metadata": {},
   "outputs": [],
   "source": [
    "#Code to fetch the permanent employees who have emp in their ID"
   ]
  },
  {
   "cell_type": "code",
   "execution_count": 3,
   "metadata": {},
   "outputs": [
    {
     "name": "stdout",
     "output_type": "stream",
     "text": [
      "['11', 'Aakash Kumar', 'Patna', '22', 'Noida']\n",
      "['12', 'Naman Arora', 'Lucknow', '18', 'Delhi']\n",
      "['13', 'Vikas Jain', 'Bhopal', '25', 'Gurgaon']\n",
      "['14', 'Nirmal Mishra', 'Gurgaon', '21', 'Gurgaon']\n",
      "['15', 'Priya Singh', 'Gurgaon', '25', 'Delhi']\n",
      "['16', 'Pravita Singh', 'Kanpur', '21', 'Delhi']\n"
     ]
    }
   ],
   "source": [
    "ptrn = re.compile(\"emp\")\n",
    "with open('new_records.csv','r') as csvfile:\n",
    "    csv_reader = csv.reader(csvfile)\n",
    "    rows = []\n",
    "    for row in csv_reader:\n",
    "        if(ptrn.match(row[0])):\n",
    "            row[0] = row[0][3:5]\n",
    "            rows.append(row)\n",
    "            print(row)\n",
    "            \n",
    "csvfile.close()"
   ]
  },
  {
   "cell_type": "code",
   "execution_count": 4,
   "metadata": {},
   "outputs": [],
   "source": [
    "#Spliting up the names from new_record into first name and last name"
   ]
  },
  {
   "cell_type": "code",
   "execution_count": 5,
   "metadata": {},
   "outputs": [
    {
     "data": {
      "text/plain": [
       "[['11', 'Aakash', 'Kumar', 'Patna', '22', 'Noida'],\n",
       " ['12', 'Naman', 'Arora', 'Lucknow', '18', 'Delhi'],\n",
       " ['13', 'Vikas', 'Jain', 'Bhopal', '25', 'Gurgaon'],\n",
       " ['14', 'Nirmal', 'Mishra', 'Gurgaon', '21', 'Gurgaon'],\n",
       " ['15', 'Priya', 'Singh', 'Gurgaon', '25', 'Delhi'],\n",
       " ['16', 'Pravita', 'Singh', 'Kanpur', '21', 'Delhi']]"
      ]
     },
     "execution_count": 5,
     "metadata": {},
     "output_type": "execute_result"
    }
   ],
   "source": [
    "for row in rows:\n",
    "    row[1] = row[1].split(\" \")\n",
    "    fname = row[1][0]\n",
    "    lname = row[1][1]\n",
    "    row.remove(row[1])\n",
    "    row.insert(1,fname)\n",
    "    row.insert(2,lname)\n",
    "rows"
   ]
  },
  {
   "cell_type": "code",
   "execution_count": 6,
   "metadata": {},
   "outputs": [
    {
     "ename": "NameError",
     "evalue": "name 'writer' is not defined",
     "output_type": "error",
     "traceback": [
      "\u001b[1;31m---------------------------------------------------------------------------\u001b[0m",
      "\u001b[1;31mNameError\u001b[0m                                 Traceback (most recent call last)",
      "\u001b[1;32m<ipython-input-6-65c9034d2047>\u001b[0m in \u001b[0;36m<module>\u001b[1;34m()\u001b[0m\n\u001b[0;32m      5\u001b[0m     \u001b[0mcsv_writer\u001b[0m \u001b[1;33m=\u001b[0m \u001b[0mcsv\u001b[0m\u001b[1;33m.\u001b[0m\u001b[0mwriter\u001b[0m\u001b[1;33m(\u001b[0m\u001b[0mcsvFile\u001b[0m\u001b[1;33m)\u001b[0m\u001b[1;33m\u001b[0m\u001b[0m\n\u001b[0;32m      6\u001b[0m     \u001b[1;32mfor\u001b[0m \u001b[0mi\u001b[0m \u001b[1;32min\u001b[0m \u001b[0mrows\u001b[0m\u001b[1;33m:\u001b[0m\u001b[1;33m\u001b[0m\u001b[0m\n\u001b[1;32m----> 7\u001b[1;33m         \u001b[0mwriter\u001b[0m\u001b[1;33m.\u001b[0m\u001b[0mwriterow\u001b[0m\u001b[1;33m(\u001b[0m\u001b[0mi\u001b[0m\u001b[1;33m)\u001b[0m\u001b[1;33m\u001b[0m\u001b[0m\n\u001b[0m\u001b[0;32m      8\u001b[0m \u001b[1;33m\u001b[0m\u001b[0m\n\u001b[0;32m      9\u001b[0m \u001b[0mcsvFile\u001b[0m\u001b[1;33m.\u001b[0m\u001b[0mclose\u001b[0m\u001b[1;33m(\u001b[0m\u001b[1;33m)\u001b[0m\u001b[1;33m\u001b[0m\u001b[0m\n",
      "\u001b[1;31mNameError\u001b[0m: name 'writer' is not defined"
     ]
    }
   ],
   "source": [
    "#writing the data of permanent employees from new record into employee list\n",
    "\n",
    "\n",
    "with open('employee_list.csv', 'a') as csvFile:\n",
    "    csv_writer = csv.writer(csvFile)\n",
    "    for i in rows:\n",
    "        writer.writerow(i)\n",
    "\n",
    "csvFile.close()\n",
    "\n",
    "\n"
   ]
  },
  {
   "cell_type": "code",
   "execution_count": null,
   "metadata": {},
   "outputs": [],
   "source": [
    "with open('employee_list.csv','r') as csvfile:\n",
    "    csv_reader = csv.reader(csvfile)\n",
    "    for row in csv_reader:\n",
    "        print(row)"
   ]
  },
  {
   "cell_type": "code",
   "execution_count": null,
   "metadata": {},
   "outputs": [],
   "source": []
  },
  {
   "cell_type": "code",
   "execution_count": null,
   "metadata": {},
   "outputs": [],
   "source": [
    "#code for searching the employees who are not permanent"
   ]
  },
  {
   "cell_type": "code",
   "execution_count": null,
   "metadata": {},
   "outputs": [],
   "source": [
    "ptrn = re.compile(\"emp\")\n",
    "with open('new_records.csv','r') as csvfile:\n",
    "    csv_reader = csv.reader(csvfile)\n",
    "    rows = []\n",
    "    for row in csv_reader:\n",
    "        if(ptrn.match(row[0]) == None):\n",
    "            rows.append(row)"
   ]
  },
  {
   "cell_type": "code",
   "execution_count": null,
   "metadata": {},
   "outputs": [],
   "source": []
  },
  {
   "cell_type": "code",
   "execution_count": null,
   "metadata": {},
   "outputs": [],
   "source": [
    "for row in rows:\n",
    "    row[1] = row[1].split(\" \")\n",
    "    fname = row[1][0]\n",
    "    lname = row[1][1]\n",
    "    row.remove(row[1])\n",
    "    row.insert(1,fname)\n",
    "    row.insert(2,lname)\n",
    "rows\n",
    "        "
   ]
  },
  {
   "cell_type": "code",
   "execution_count": null,
   "metadata": {},
   "outputs": [],
   "source": [
    "#adding non permanent employees into a new csv file called contractors_list.csv"
   ]
  },
  {
   "cell_type": "code",
   "execution_count": null,
   "metadata": {},
   "outputs": [],
   "source": [
    "with open('contractors_list.csv','w') as csvfile:\n",
    "    csv_writer = csv.writer(csvfile)\n",
    "    csv_writer.writerows(rows)"
   ]
  },
  {
   "cell_type": "code",
   "execution_count": null,
   "metadata": {},
   "outputs": [],
   "source": []
  },
  {
   "cell_type": "code",
   "execution_count": null,
   "metadata": {},
   "outputs": [],
   "source": []
  },
  {
   "cell_type": "code",
   "execution_count": null,
   "metadata": {},
   "outputs": [],
   "source": []
  },
  {
   "cell_type": "code",
   "execution_count": null,
   "metadata": {},
   "outputs": [],
   "source": []
  },
  {
   "cell_type": "code",
   "execution_count": null,
   "metadata": {},
   "outputs": [],
   "source": []
  }
 ],
 "metadata": {
  "kernelspec": {
   "display_name": "Python 3",
   "language": "python",
   "name": "python3"
  }
 },
 "nbformat": 4,
 "nbformat_minor": 2
}
