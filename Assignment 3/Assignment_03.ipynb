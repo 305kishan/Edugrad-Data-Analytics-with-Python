{
 "cells": [
  {
   "cell_type": "code",
   "execution_count": 1,
   "metadata": {},
   "outputs": [],
   "source": [
    "#1). Write a Python program to insert an element at the end of a linked list"
   ]
  },
  {
   "cell_type": "code",
   "execution_count": 5,
   "metadata": {},
   "outputs": [
    {
     "name": "stdout",
     "output_type": "stream",
     "text": [
      "1\n",
      "2\n",
      "3\n"
     ]
    }
   ],
   "source": [
    "class Node:\n",
    "    def __init__(self, dataval=None):\n",
    "        self.dataval = dataval\n",
    "        self.nextval = None\n",
    "\n",
    "class SLinkedList:\n",
    "    def __init__(self):\n",
    "        self.headval = None\n",
    "\n",
    "# Function to add newnode at the end\n",
    "    def AtEnd(self, newdata):\n",
    "        NewNode = Node(newdata)\n",
    "        if self.headval is None:\n",
    "            self.headval = NewNode\n",
    "            return\n",
    "        laste = self.headval\n",
    "        while(laste.nextval):\n",
    "            laste = laste.nextval\n",
    "        laste.nextval=NewNode\n",
    "\n",
    "# Print the linked list\n",
    "    def listprint(self):\n",
    "        printval = self.headval\n",
    "        while printval is not None:\n",
    "            print (printval.dataval)\n",
    "            printval = printval.nextval\n",
    "\n",
    "\n",
    "list = SLinkedList()\n",
    "list.headval = Node(\"1\")\n",
    "e2 = Node(\"2\")\n",
    "e3 = Node(\"3\")\n",
    "list.headval.nextval = e2\n",
    "e2.nextval = e3\n",
    "\n",
    "\n",
    "list.listprint()"
   ]
  },
  {
   "cell_type": "code",
   "execution_count": 6,
   "metadata": {},
   "outputs": [
    {
     "name": "stdout",
     "output_type": "stream",
     "text": [
      "1\n",
      "2\n",
      "3\n",
      "4\n"
     ]
    }
   ],
   "source": [
    "#inserting the element at the end\n",
    "list.AtEnd(\"4\")\n",
    "list.listprint()"
   ]
  },
  {
   "cell_type": "code",
   "execution_count": null,
   "metadata": {},
   "outputs": [],
   "source": []
  },
  {
   "cell_type": "code",
   "execution_count": null,
   "metadata": {},
   "outputs": [],
   "source": []
  },
  {
   "cell_type": "code",
   "execution_count": 7,
   "metadata": {},
   "outputs": [],
   "source": [
    "#2). Write a Python program to implement a stack using a queue"
   ]
  },
  {
   "cell_type": "code",
   "execution_count": 9,
   "metadata": {},
   "outputs": [
    {
     "name": "stdout",
     "output_type": "stream",
     "text": [
      "Menu\n",
      "push <value>\n",
      "pop\n",
      "quit\n",
      "What would you like to do? push 3\n",
      "What would you like to do? push 4\n",
      "What would you like to do? push 5\n",
      "What would you like to do? pop\n",
      "Popped value:  5\n",
      "What would you like to do? pop\n",
      "Popped value:  4\n",
      "What would you like to do? pop\n",
      "Popped value:  3\n",
      "What would you like to do? pop\n",
      "Stack is empty.\n",
      "What would you like to do? quit\n"
     ]
    }
   ],
   "source": [
    "class Stack:\n",
    "    def __init__(self):\n",
    "        self.q = Queue()\n",
    " \n",
    "    def is_empty(self):\n",
    "        return self.q.is_empty()\n",
    " \n",
    "    def push(self, data):\n",
    "        self.q.enqueue(data)\n",
    " \n",
    "    def pop(self):\n",
    "        for _ in range(self.q.get_size() - 1):\n",
    "            dequeued = self.q.dequeue()\n",
    "            self.q.enqueue(dequeued)\n",
    "        return self.q.dequeue()\n",
    " \n",
    " \n",
    "class Queue:\n",
    "    def __init__(self):\n",
    "        self.items = []\n",
    "        self.size = 0\n",
    " \n",
    "    def is_empty(self):\n",
    "        return self.items == []\n",
    " \n",
    "    def enqueue(self, data):\n",
    "        self.size += 1\n",
    "        self.items.append(data)\n",
    " \n",
    "    def dequeue(self):\n",
    "        self.size -= 1\n",
    "        return self.items.pop(0)\n",
    " \n",
    "    def get_size(self):\n",
    "        return self.size\n",
    " \n",
    " \n",
    "s = Stack()\n",
    " \n",
    "print('Menu')\n",
    "print('push <value>')\n",
    "print('pop')\n",
    "print('quit')\n",
    " \n",
    "while True:\n",
    "    do = input('What would you like to do? ').split()\n",
    " \n",
    "    operation = do[0].strip().lower()\n",
    "    if operation == 'push':\n",
    "        s.push(int(do[1]))\n",
    "    elif operation == 'pop':\n",
    "        if s.is_empty():\n",
    "            print('Stack is empty.')\n",
    "        else:\n",
    "            print('Popped value: ', s.pop())\n",
    "    elif operation == 'quit':\n",
    "        break"
   ]
  },
  {
   "cell_type": "code",
   "execution_count": null,
   "metadata": {},
   "outputs": [],
   "source": []
  },
  {
   "cell_type": "code",
   "execution_count": null,
   "metadata": {},
   "outputs": [],
   "source": []
  },
  {
   "cell_type": "code",
   "execution_count": 10,
   "metadata": {},
   "outputs": [],
   "source": [
    "# 3). Write a Python program to create a FIFO queue"
   ]
  },
  {
   "cell_type": "code",
   "execution_count": 11,
   "metadata": {},
   "outputs": [
    {
     "name": "stdout",
     "output_type": "stream",
     "text": [
      "0 1 2 3 \n",
      "\n"
     ]
    }
   ],
   "source": [
    "import queue\n",
    "q = queue.Queue()\n",
    "#insert items at the end of the queue \n",
    "for x in range(4):\n",
    "    q.put(str(x))\n",
    "#remove items from the head of the queue \n",
    "while not q.empty():\n",
    "    print(q.get(), end=\" \")\n",
    "print(\"\\n\")"
   ]
  },
  {
   "cell_type": "code",
   "execution_count": null,
   "metadata": {},
   "outputs": [],
   "source": []
  },
  {
   "cell_type": "code",
   "execution_count": null,
   "metadata": {},
   "outputs": [],
   "source": []
  },
  {
   "cell_type": "code",
   "execution_count": 12,
   "metadata": {},
   "outputs": [],
   "source": [
    "# 4). Write a Python program to sort a list of elements using the bubble sort algorithm list1 = [80,70,90,40,60,50]"
   ]
  },
  {
   "cell_type": "code",
   "execution_count": 13,
   "metadata": {},
   "outputs": [
    {
     "name": "stdout",
     "output_type": "stream",
     "text": [
      "[40, 50, 60, 70, 80, 90]\n"
     ]
    }
   ],
   "source": [
    "\n",
    "def bubblesort(list):\n",
    "    for i in range(len(list)-1,0,-1):\n",
    "        for idx in range(i):\n",
    "            if list[idx] > list[idx + 1]:\n",
    "                list[idx],list[idx+1]=list[idx+1],list[idx]\n",
    "    return print(list)\n",
    "\n",
    "\n",
    "\n",
    "list1 = [80,70,90,40,60,50]\n",
    "bubblesort(list1)"
   ]
  },
  {
   "cell_type": "code",
   "execution_count": null,
   "metadata": {},
   "outputs": [],
   "source": []
  },
  {
   "cell_type": "code",
   "execution_count": null,
   "metadata": {},
   "outputs": [],
   "source": []
  },
  {
   "cell_type": "code",
   "execution_count": 14,
   "metadata": {},
   "outputs": [],
   "source": [
    "# 5). Write a Python program to sort a list of elements using the selection sort algorithm list1 = [80,70,90,40,60,50]"
   ]
  },
  {
   "cell_type": "code",
   "execution_count": 17,
   "metadata": {},
   "outputs": [
    {
     "name": "stdout",
     "output_type": "stream",
     "text": [
      "[40, 50, 60, 70, 80, 90]\n"
     ]
    }
   ],
   "source": [
    "def selectionsort(list):\n",
    "    for i in range(len(list)):\n",
    "        min_idx=i\n",
    "        for j in range(i+1,len(list)):\n",
    "            if list[min_idx] > list[j]:\n",
    "                min_idx=j\n",
    "        list[i],list[min_idx]=list[min_idx],list[i]\n",
    "     \n",
    "    return print(list)\n",
    "        \n",
    "        \n",
    "\n",
    "list1 = [80,70,90,40,60,50]\n",
    "selectionsort(list1)"
   ]
  },
  {
   "cell_type": "code",
   "execution_count": null,
   "metadata": {},
   "outputs": [],
   "source": []
  }
 ],
 "metadata": {
  "kernelspec": {
   "display_name": "Python 3",
   "language": "python",
   "name": "python3"
  },
  "language_info": {
   "codemirror_mode": {
    "name": "ipython",
    "version": 3
   },
   "file_extension": ".py",
   "mimetype": "text/x-python",
   "name": "python",
   "nbconvert_exporter": "python",
   "pygments_lexer": "ipython3",
   "version": "3.6.5"
  }
 },
 "nbformat": 4,
 "nbformat_minor": 2
}
